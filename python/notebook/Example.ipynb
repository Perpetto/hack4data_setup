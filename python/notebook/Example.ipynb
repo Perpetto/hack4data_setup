{
 "cells": [
  {
   "cell_type": "code",
   "execution_count": null,
   "metadata": {
    "collapsed": true
   },
   "outputs": [],
   "source": [
    "# This is an example playbook. Please do not edit, instead go to File -> Make a Copy"
   ]
  },
  {
   "cell_type": "code",
   "execution_count": null,
   "metadata": {
    "collapsed": false
   },
   "outputs": [],
   "source": [
    "# setup (always run first)\n",
    "\n",
    "%pylab inline\n",
    "import pandas as pd\n",
    "import json\n",
    "\n",
    "#return a data frame of the results\n",
    "def rows_to_df(rows):\n",
    "    return pd.DataFrame(map(lambda e: e.asDict(), rows))\n",
    "\n",
    "# return the result as a list of dictionaries\n",
    "def rows_to_dict(rows):\n",
    "    return map(lambda e: e.asDict(), rows)\n",
    "\n",
    "# return an array of the n-th column of the results\n",
    "def get_column(column_index, rows):\n",
    "    data = []\n",
    "    for row in summary:\n",
    "        data.append(row[column_index])\n",
    "    return data\n",
    "\n",
    "# writes the result to a JSON file in the format {\"data\": [{...}, {...}, ... {...}]}\n",
    "def write_to_json(file_name, rows):\n",
    "    with open(file_name, 'w') as outfile:\n",
    "        json.dump(dict(data = rows_to_dict(rows)), outfile)\n",
    "    outfile.close()\n",
    "\n",
    "from pyspark.sql import SQLContext\n",
    "sqlc = SQLContext(sc)\n",
    "\n",
    "# this loads the events table from HDFS\n",
    "rdd = sqlc.read.parquet(\"/tmp/perpetto-dump-new.parquet\")\n",
    "rdd.registerTempTable(\"events\")"
   ]
  },
  {
   "cell_type": "code",
   "execution_count": null,
   "metadata": {
    "collapsed": false
   },
   "outputs": [],
   "source": [
    "# statistics (for future reference)\n",
    "\n",
    "summary = sqlc.sql(\"SELECT \"\n",
    "                   \"entityType, event, targetEntityType, COUNT(*) AS c \"\n",
    "                   \"FROM events \"\n",
    "                   \"GROUP BY entityType, event, targetEntityType\").collect()\n",
    "rows_to_df(summary)"
   ]
  },
  {
   "cell_type": "code",
   "execution_count": null,
   "metadata": {
    "collapsed": false
   },
   "outputs": [],
   "source": [
    "# events per user\n",
    "# histogram\n",
    "\n",
    "summary = sqlc.sql(\"SELECT \"\n",
    "                   \"count(E1.eventId) \"\n",
    "                   \"FROM events E1 \"\n",
    "                   \"WHERE E1.entityType = 'user' and E1.targetEntityType = 'item' \"\n",
    "                   \"GROUP by E1.entityId\").collect()\n",
    "\n",
    "\n",
    "result_array = get_column(0, summary)\n",
    "hist(result_array, bins=100, range=(0, 40)) # histogram\n",
    "sum(result_array)"
   ]
  },
  {
   "cell_type": "code",
   "execution_count": null,
   "metadata": {
    "collapsed": false
   },
   "outputs": [],
   "source": [
    "# write the results to a file\n",
    "\n",
    "write_to_json(\"results.json\", summary)"
   ]
  },
  {
   "cell_type": "raw",
   "metadata": {},
   "source": []
  }
 ],
 "metadata": {
  "kernelspec": {
   "display_name": "Python 2",
   "language": "python",
   "name": "python2"
  },
  "language_info": {
   "codemirror_mode": {
    "name": "ipython",
    "version": 2
   },
   "file_extension": ".py",
   "mimetype": "text/x-python",
   "name": "python",
   "nbconvert_exporter": "python",
   "pygments_lexer": "ipython2",
   "version": "2.7.12"
  }
 },
 "nbformat": 4,
 "nbformat_minor": 0
}
